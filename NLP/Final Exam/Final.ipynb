{
 "cells": [
  {
   "cell_type": "markdown",
   "metadata": {
    "id": "rohISrsN5A-Q"
   },
   "source": [
    "**Saroj Duwal**    \n",
    "**2479434**    \n",
    "**Finals**    "
   ]
  },
  {
   "cell_type": "markdown",
   "metadata": {
    "id": "1XvVA8CI5K23"
   },
   "source": [
    "## Introduction\n",
    "\n",
    "This file contains solution for the final exam. I have implemented a character level lanugage model in three ways:\n",
    "- GRU\n",
    "- LSTM\n",
    "- Transformer   \n",
    "\n",
    "For each step, I have described my work before calling the function."
   ]
  },
  {
   "cell_type": "markdown",
   "metadata": {
    "id": "AXGlDGpdn0GZ"
   },
   "source": [
    "## Data and Cleanup\n",
    "\n",
    "I have used Agnes Grey by Anne Bronte as my training dataset. This book can be found under Project Glutenberg and is free to use. There was no particular reason for choosing this book. I chose a book that was familiar to me.    \n",
    "\n",
    "The training dataset only uses lowercase letters (a-z). I have removed all the punctuations, numbers, and special characters (âà’“”—‘éêëû) found in the dataset. We split each words and use keras tokenizer to vectorize the text corpus. We create a n-gram sequence for each word. All the tokens are padded such they their length is equal to the maximum length of word found in the corpus. The process I followed during preprocessing is similar to method described [here](https://medium.com/@shivambansal36/language-modelling-text-generation-using-lstms-deep-learning-for-nlp-ed36b224b275).\n"
   ]
  },
  {
   "cell_type": "code",
   "execution_count": 1,
   "metadata": {
    "id": "P2n5gJ-E_Ijq"
   },
   "outputs": [],
   "source": [
    "from keras.preprocessing.sequence import pad_sequences\n",
    "from keras.preprocessing.text import Tokenizer\n",
    "import numpy as np \n",
    "from string import digits, punctuation\n",
    "import keras.utils as ku "
   ]
  },
  {
   "cell_type": "code",
   "execution_count": 2,
   "metadata": {
    "id": "NokvN_4mEzci"
   },
   "outputs": [],
   "source": [
    "tokenizer = Tokenizer(lower=True, char_level=True)"
   ]
  },
  {
   "cell_type": "code",
   "execution_count": 3,
   "metadata": {
    "id": "vmAzE33K_M-6"
   },
   "outputs": [],
   "source": [
    "def preprocessing(data):\n",
    "\n",
    "  removePunc = str.maketrans('','', punctuation)\n",
    "  removeNumber = str.maketrans('','',digits)\n",
    "  removeSpecial = str.maketrans('','','âà’“”—‘éêëû')\n",
    "\n",
    "  # remove punctuations, special characters and numbers\n",
    "  corpus = data.lower().split()\n",
    "  corpus = [s.translate(removeNumber) for s in corpus]\n",
    "  corpus = [s.translate(removePunc) for s in corpus]\n",
    "  corpus = [s.translate(removeSpecial) for s in corpus]\n",
    "\n",
    "  corpus = list(filter(None, corpus)) # Removes the empty line \n",
    "\n",
    "  tokenizer.fit_on_texts(corpus)\n",
    "  totalWords = len(tokenizer.word_index)+1\n",
    "\n",
    "  input = []\n",
    "\n",
    "  # tokenize the words\n",
    "  for line in corpus:\n",
    "    tokenList = tokenizer.texts_to_sequences([line])[0]\n",
    "    for i in range(0,len(tokenList)):\n",
    "      n_gram = tokenList[:i+1]\n",
    "      input.append(n_gram)\n",
    "\n",
    "  maxLength = max([len(x) for x in input])\n",
    "  # pad all the n-gram tokens to max length found in the document\n",
    "  input = np.array(pad_sequences(input,maxlen=maxLength,padding='pre'))\n",
    "\n",
    "  # split the dataset into training data and results. The results are converted to binary class matrix.\n",
    "  predictors, label = input[:,:-1],input[:,-1]\n",
    "  label=ku.to_categorical(label,num_classes=totalWords)\n",
    "  return predictors, label, maxLength, totalWords"
   ]
  },
  {
   "cell_type": "code",
   "execution_count": 4,
   "metadata": {
    "id": "-Ptk57xS55_M"
   },
   "outputs": [],
   "source": [
    "# tokenizer.word_index #Helpful if you want to compare the vector to actual word"
   ]
  },
  {
   "cell_type": "code",
   "execution_count": 6,
   "metadata": {
    "colab": {
     "base_uri": "https://localhost:8080/"
    },
    "id": "BH_o4lVMDYyE",
    "outputId": "488a39b5-5e57-40e6-842d-94966529c1ce"
   },
   "outputs": [
    {
     "data": {
      "text/plain": [
       "22"
      ]
     },
     "execution_count": 6,
     "metadata": {
      "tags": []
     },
     "output_type": "execute_result"
    }
   ],
   "source": [
    "# Open the file and process the text\n",
    "inputFile = 'data.txt'\n",
    "data = open(inputFile,\"r\")\n",
    "x, y, maxLength, totalWords = preprocessing(data.read())\n",
    "maxLength"
   ]
  },
  {
   "cell_type": "markdown",
   "metadata": {
    "id": "80B6o4_b6keV"
   },
   "source": [
    "**Example**\n",
    "\n",
    "**Predictor**: [ 0,  0,  0,  0,  0,  0,  0,  0,  0,  0,  0,  0,  0,  0,  0,  0,  0, 0,  4, 18,  6]    \n",
    "*Word: agn*\n",
    "\n",
    "**Label**: [0., 1., 0., 0., 0., 0., 0., 0., 0., 0., 0., 0., 0., 0., 0., 0., 0.,0., 0., 0., 0., 0., 0., 0., 0., 0., 0.]   \n",
    "*target: e*\n",
    "\n",
    "We will use the same input and output for all our models. "
   ]
  },
  {
   "cell_type": "markdown",
   "metadata": {
    "id": "5yCS5pw175Sl"
   },
   "source": [
    "## Text Generation and common methods\n",
    "\n",
    "This method will be used to generate the next char in the sequence. The method predicts the class with the highest probability, finds the word in the token and return the char form. For our example demostration, we will only generate one char at a time, although we could generate multiple characters. \n",
    "\n",
    "For multiple characters, the generated char is appeneded to the input and the new sequence is considered input for next character. \n",
    "\n",
    "```python\n",
    "generate_text(\"agn\",1,maxLength,model)\n",
    "```"
   ]
  },
  {
   "cell_type": "code",
   "execution_count": 6,
   "metadata": {
    "id": "_VvmuWBXK74b"
   },
   "outputs": [],
   "source": [
    "def generate_text(seed_text, next_words, max_sequence_len, model):\n",
    "    for _ in range(next_words):\n",
    "        token_list = tokenizer.texts_to_sequences([seed_text])[0]\n",
    "        token_list = pad_sequences([token_list], maxlen=max_sequence_len-1, padding='pre')\n",
    "        predicted = model.predict(token_list)\n",
    "        predicted = np.argmax(model.predict(token_list), axis=-1)\n",
    "\n",
    "        output_word = \"\"\n",
    "        for word, index in tokenizer.word_index.items():\n",
    "            if index == predicted:\n",
    "                output_word = word\n",
    "                break\n",
    "        seed_text += output_word\n",
    "    return seed_text\n"
   ]
  },
  {
   "cell_type": "markdown",
   "metadata": {
    "id": "5eWttPjZOaoB"
   },
   "source": [
    "### Plot   \n",
    "This was used to plot accuracy vs validation accuracy during training."
   ]
  },
  {
   "cell_type": "code",
   "execution_count": 7,
   "metadata": {
    "id": "Avifxdtf_biy"
   },
   "outputs": [],
   "source": [
    "from matplotlib import pyplot as plt\n",
    "\n",
    "def plot_accuracy_vs_val(history):\n",
    "  plt.plot(history.history['accuracy'])\n",
    "  plt.plot(history.history['val_accuracy'])\n",
    "  plt.title('model accuracy')\n",
    "  plt.ylabel('accuracy')\n",
    "  plt.xlabel('epoch')\n",
    "  plt.legend(['train', 'val'], loc='upper left')\n",
    "  plt.show()"
   ]
  },
  {
   "cell_type": "markdown",
   "metadata": {
    "id": "WS44iy2YOcz-"
   },
   "source": [
    "### Common parameters"
   ]
  },
  {
   "cell_type": "code",
   "execution_count": 39,
   "metadata": {
    "id": "W3jGlNEWN8rI"
   },
   "outputs": [],
   "source": [
    "from keras.callbacks import EarlyStopping\n",
    "from keras.optimizers import Adam\n",
    "\n",
    "epochs = 100\n",
    "patience = 10\n",
    "verbose = 1\n",
    "\n",
    "'''\n",
    "This callback is used while training the models. \n",
    "If there is no improvement in validation accuracy in 10 consecutive epoch, the training stops.\n",
    "This tries to maximize the validation accuracy.\n",
    "'''\n",
    "es = EarlyStopping(monitor='val_accuracy',mode='max', patience=patience)\n",
    "\n",
    "\n",
    "'''\n",
    "Optimizer for the model\n",
    "uses the adam algorithm to control the learning rate\n",
    "'''\n",
    "opt = Adam(learning_rate=0.001)"
   ]
  },
  {
   "cell_type": "code",
   "execution_count": 33,
   "metadata": {
    "id": "f62V3hbKtRNM"
   },
   "outputs": [],
   "source": [
    "# saves the trained model\n",
    "def saveModel(filename,model):\n",
    "  filename +=\".tf\"\n",
    "\n",
    "  print()\n",
    "  print(f\"Saving model as {filename}\")\n",
    "  model.save(filename)\n",
    "  print(\"Model has been saved.\")"
   ]
  },
  {
   "cell_type": "markdown",
   "metadata": {
    "id": "hVbKng4v7l-M"
   },
   "source": [
    "## RNN   \n",
    "\n",
    "I have used simpleRNN from keras library. There are no gates present in the library. This model has a simple architecure with an Embedding, SimpleRNN and Dense layer. \n",
    "\n",
    "The embedding layer allows us to represent the input with  dense vector representation. The embedding layer gives us 2D vector representation with one embedding for each word in the input and processes using the simpleRNN layer. There is a dropout layer which is a regularization layer to prevent overfitting (Stack overflow suggested that using a dropout layer was better than using recurrent_dropout property in simpleRNN).  Finally, we have a dense layer with softmax activation. Softmax converts the vector value to a probablity distribution. Based on the keras documentation, this seemed like the best activation function to use.\n",
    "\n"
   ]
  },
  {
   "cell_type": "code",
   "execution_count": 15,
   "metadata": {
    "id": "wwoj51nx7ohD"
   },
   "outputs": [],
   "source": [
    "from keras.layers import Embedding, Dense, Dropout, SimpleRNN\n",
    "from keras.models import Sequential\n",
    "\n",
    "from sklearn.model_selection import train_test_split"
   ]
  },
  {
   "cell_type": "code",
   "execution_count": 16,
   "metadata": {
    "id": "J8RaeIXKshgO"
   },
   "outputs": [],
   "source": [
    "def simpleRNN(x, y, maxLength, totalWords):\n",
    "  inputLength = maxLength-1\n",
    "\n",
    "  model = Sequential()\n",
    "  model.add(Embedding(totalWords, 64, input_length=inputLength))\n",
    "  model.add(SimpleRNN(150))\n",
    "  model.add(Dropout(0.1))\n",
    "  model.add(Dense(totalWords,activation='softmax'))\n",
    "\n",
    "  # loss as suggested in keras docs \"Use this when there are two or more class labels\"\n",
    "  model.compile(loss='categorical_crossentropy', optimizer=opt, metrics=['accuracy'])\n",
    "\n",
    "  # Used sklearn library to split as suggested in stack overflow \n",
    "  # This would help prevent overfitting as we don't want to resample validation set after each epoch\n",
    "  # splits the data set in 80-20 split. Trained on the 80% and the rest is used to validation (unseen data to generalize the model)\n",
    "  x_train, x_test, y_train, y_test = train_test_split(x, y, shuffle=True,test_size=0.2)\n",
    "  history = model.fit(x_train, y_train, validation_data=(x_test,y_test), epochs=epochs, verbose=verbose, callbacks=[es])\n",
    "\n",
    "  plot_accuracy_vs_val(history)\n",
    "\n",
    "  return model"
   ]
  },
  {
   "cell_type": "code",
   "execution_count": 17,
   "metadata": {
    "colab": {
     "base_uri": "https://localhost:8080/",
     "height": 1000
    },
    "id": "Uka42fKx_9T4",
    "outputId": "8ab2b7b2-b716-40ad-c79e-57ebdf98fac7"
   },
   "outputs": [
    {
     "name": "stdout",
     "output_type": "stream",
     "text": [
      "Epoch 1/100\n",
      "7262/7262 [==============================] - 95s 13ms/step - loss: 2.3115 - accuracy: 0.2921 - val_loss: 1.9259 - val_accuracy: 0.3944\n",
      "Epoch 2/100\n",
      "7262/7262 [==============================] - 94s 13ms/step - loss: 1.9337 - accuracy: 0.3890 - val_loss: 1.8490 - val_accuracy: 0.4259\n",
      "Epoch 3/100\n",
      "7262/7262 [==============================] - 94s 13ms/step - loss: 1.8567 - accuracy: 0.4107 - val_loss: 1.7690 - val_accuracy: 0.4453\n",
      "Epoch 4/100\n",
      "7262/7262 [==============================] - 93s 13ms/step - loss: 1.8174 - accuracy: 0.4233 - val_loss: 1.7443 - val_accuracy: 0.4507\n",
      "Epoch 5/100\n",
      "7262/7262 [==============================] - 93s 13ms/step - loss: 1.7960 - accuracy: 0.4294 - val_loss: 1.7535 - val_accuracy: 0.4533\n",
      "Epoch 6/100\n",
      "7262/7262 [==============================] - 93s 13ms/step - loss: 1.7806 - accuracy: 0.4348 - val_loss: 1.7212 - val_accuracy: 0.4585\n",
      "Epoch 7/100\n",
      "7262/7262 [==============================] - 93s 13ms/step - loss: 1.7721 - accuracy: 0.4369 - val_loss: 1.7095 - val_accuracy: 0.4614\n",
      "Epoch 8/100\n",
      "7262/7262 [==============================] - 92s 13ms/step - loss: 1.7562 - accuracy: 0.4421 - val_loss: 1.6919 - val_accuracy: 0.4653\n",
      "Epoch 9/100\n",
      "7262/7262 [==============================] - 92s 13ms/step - loss: 1.7439 - accuracy: 0.4451 - val_loss: 1.6878 - val_accuracy: 0.4588\n",
      "Epoch 10/100\n",
      "7262/7262 [==============================] - 94s 13ms/step - loss: 1.7341 - accuracy: 0.4483 - val_loss: 1.6840 - val_accuracy: 0.4688\n",
      "Epoch 11/100\n",
      "7262/7262 [==============================] - 94s 13ms/step - loss: 1.7291 - accuracy: 0.4498 - val_loss: 1.6763 - val_accuracy: 0.4613\n",
      "Epoch 12/100\n",
      "7262/7262 [==============================] - 94s 13ms/step - loss: 1.7226 - accuracy: 0.4513 - val_loss: 1.6843 - val_accuracy: 0.4625\n",
      "Epoch 13/100\n",
      "7262/7262 [==============================] - 93s 13ms/step - loss: 1.7170 - accuracy: 0.4537 - val_loss: 1.6779 - val_accuracy: 0.4700\n",
      "Epoch 14/100\n",
      "7262/7262 [==============================] - 94s 13ms/step - loss: 1.7114 - accuracy: 0.4549 - val_loss: 1.6654 - val_accuracy: 0.4714\n",
      "Epoch 15/100\n",
      "7262/7262 [==============================] - 93s 13ms/step - loss: 1.7168 - accuracy: 0.4540 - val_loss: 1.6600 - val_accuracy: 0.4663\n",
      "Epoch 16/100\n",
      "7262/7262 [==============================] - 95s 13ms/step - loss: 1.7076 - accuracy: 0.4551 - val_loss: 1.6755 - val_accuracy: 0.4691\n",
      "Epoch 17/100\n",
      "7262/7262 [==============================] - 94s 13ms/step - loss: 1.7081 - accuracy: 0.4544 - val_loss: 1.6745 - val_accuracy: 0.4742\n",
      "Epoch 18/100\n",
      "7262/7262 [==============================] - 94s 13ms/step - loss: 1.7056 - accuracy: 0.4569 - val_loss: 1.6643 - val_accuracy: 0.4737\n",
      "Epoch 19/100\n",
      "7262/7262 [==============================] - 94s 13ms/step - loss: 1.7092 - accuracy: 0.4544 - val_loss: 1.6666 - val_accuracy: 0.4742\n",
      "Epoch 20/100\n",
      "7262/7262 [==============================] - 95s 13ms/step - loss: 1.7427 - accuracy: 0.4467 - val_loss: 1.6906 - val_accuracy: 0.4655\n",
      "Epoch 21/100\n",
      "7262/7262 [==============================] - 95s 13ms/step - loss: 1.7417 - accuracy: 0.4465 - val_loss: 1.6810 - val_accuracy: 0.4651\n",
      "Epoch 22/100\n",
      "7262/7262 [==============================] - 96s 13ms/step - loss: 1.7373 - accuracy: 0.4485 - val_loss: 1.6803 - val_accuracy: 0.4685\n",
      "Epoch 23/100\n",
      "7262/7262 [==============================] - 95s 13ms/step - loss: 1.7488 - accuracy: 0.4445 - val_loss: 1.6762 - val_accuracy: 0.4697\n",
      "Epoch 24/100\n",
      "7262/7262 [==============================] - 95s 13ms/step - loss: 1.7438 - accuracy: 0.4465 - val_loss: 1.6927 - val_accuracy: 0.4606\n",
      "Epoch 25/100\n",
      "7262/7262 [==============================] - 95s 13ms/step - loss: 1.7300 - accuracy: 0.4486 - val_loss: 1.6791 - val_accuracy: 0.4586\n",
      "Epoch 26/100\n",
      "7262/7262 [==============================] - 94s 13ms/step - loss: 1.7249 - accuracy: 0.4521 - val_loss: 1.6731 - val_accuracy: 0.4723\n",
      "Epoch 27/100\n",
      "7262/7262 [==============================] - 94s 13ms/step - loss: 1.7124 - accuracy: 0.4543 - val_loss: 1.6671 - val_accuracy: 0.4722\n",
      "Epoch 28/100\n",
      "7262/7262 [==============================] - 95s 13ms/step - loss: 1.7190 - accuracy: 0.4519 - val_loss: 1.6646 - val_accuracy: 0.4721\n"
     ]
    },
    {
     "data": {
      "image/png": "[encoded data removed]",
      "text/plain": [
       "<Figure size 432x288 with 1 Axes>"
      ]
     },
     "metadata": {
      "needs_background": "light",
      "tags": []
     },
     "output_type": "display_data"
    },
    {
     "name": "stdout",
     "output_type": "stream",
     "text": [
      "\n",
      "Saving model as simplernn.tf\n",
      "INFO:tensorflow:Assets written to: simplernn.tf/assets\n",
      "Model has been saved.\n"
     ]
    }
   ],
   "source": [
    "# create and save the model\n",
    "simplernn = simpleRNN(x,y,maxLength,totalWords)\n",
    "saveModel(\"simplernn\",simplernn)"
   ]
  },
  {
   "cell_type": "markdown",
   "metadata": {
    "id": "51evcgRIV9Cm"
   },
   "source": [
    "## GRU   \n",
    "For GRU, I have used keras GRU layer. The architecture for my GRU model is similar to simpleRNN. Instead of simpleRNN, I have used the GRU layer. This model has a single GRU layer followed by a Dense layer. The number of unit was chosen randomly (and should be optimized for better result). \n",
    "\n",
    "The model has a fully connected output layer that outputs one vector with a probability distribution across all characters in the vocabulary. A softmax activation function is used on the output layer to ensure the output has the properties of a probability distribution. (same as above)"
   ]
  },
  {
   "cell_type": "code",
   "execution_count": 19,
   "metadata": {
    "id": "d4_97HSdhgRz"
   },
   "outputs": [],
   "source": [
    "from keras.layers import GRU"
   ]
  },
  {
   "cell_type": "code",
   "execution_count": 20,
   "metadata": {
    "id": "LEkDHec4KZs7"
   },
   "outputs": [],
   "source": [
    "def gru(x, y, maxLength, totalWords):\n",
    "  inputLength = maxLength-1\n",
    "\n",
    "  model = Sequential()\n",
    "  model.add(Embedding(totalWords, 64, input_length=inputLength))\n",
    "  model.add(GRU(150))\n",
    "  model.add(Dropout(0.1))\n",
    "  model.add(Dense(totalWords,activation='softmax'))\n",
    "\n",
    "  model.compile(loss='categorical_crossentropy', optimizer=opt, metrics=['accuracy'])\n",
    "\n",
    "  x_train, x_test, y_train, y_test = train_test_split(x, y, shuffle=True,test_size=0.2)\n",
    "  history=model.fit(x_train, y_train, validation_data=(x_test,y_test), epochs=epochs, verbose=verbose, callbacks=[es])\n",
    "\n",
    "  plot_accuracy_vs_val(history)\n",
    "\n",
    "  return model"
   ]
  },
  {
   "cell_type": "code",
   "execution_count": 21,
   "metadata": {
    "colab": {
     "base_uri": "https://localhost:8080/",
     "height": 1000
    },
    "id": "jXGjZ6W0A3_6",
    "outputId": "affcf6e4-39fa-4706-9adc-04d2212836e6"
   },
   "outputs": [
    {
     "name": "stdout",
     "output_type": "stream",
     "text": [
      "Epoch 1/100\n",
      "7262/7262 [==============================] - 212s 29ms/step - loss: 2.1138 - accuracy: 0.3419 - val_loss: 1.7598 - val_accuracy: 0.4423\n",
      "Epoch 2/100\n",
      "7262/7262 [==============================] - 210s 29ms/step - loss: 1.7506 - accuracy: 0.4424 - val_loss: 1.6766 - val_accuracy: 0.4616\n",
      "Epoch 3/100\n",
      "7262/7262 [==============================] - 210s 29ms/step - loss: 1.6682 - accuracy: 0.4638 - val_loss: 1.6390 - val_accuracy: 0.4735\n",
      "Epoch 4/100\n",
      "7262/7262 [==============================] - 212s 29ms/step - loss: 1.6276 - accuracy: 0.4754 - val_loss: 1.6265 - val_accuracy: 0.4759\n",
      "Epoch 5/100\n",
      "7262/7262 [==============================] - 214s 29ms/step - loss: 1.6118 - accuracy: 0.4787 - val_loss: 1.6181 - val_accuracy: 0.4712\n",
      "Epoch 6/100\n",
      "7262/7262 [==============================] - 213s 29ms/step - loss: 1.5948 - accuracy: 0.4819 - val_loss: 1.6045 - val_accuracy: 0.4834\n",
      "Epoch 7/100\n",
      "7262/7262 [==============================] - 213s 29ms/step - loss: 1.5879 - accuracy: 0.4840 - val_loss: 1.6018 - val_accuracy: 0.4833\n",
      "Epoch 8/100\n",
      "7262/7262 [==============================] - 214s 30ms/step - loss: 1.5832 - accuracy: 0.4861 - val_loss: 1.5976 - val_accuracy: 0.4804\n",
      "Epoch 9/100\n",
      "7262/7262 [==============================] - 215s 30ms/step - loss: 1.5696 - accuracy: 0.4892 - val_loss: 1.5936 - val_accuracy: 0.4861\n",
      "Epoch 10/100\n",
      "7262/7262 [==============================] - 214s 29ms/step - loss: 1.5657 - accuracy: 0.4906 - val_loss: 1.5967 - val_accuracy: 0.4847\n",
      "Epoch 11/100\n",
      "7262/7262 [==============================] - 213s 29ms/step - loss: 1.5615 - accuracy: 0.4910 - val_loss: 1.5911 - val_accuracy: 0.4854\n",
      "Epoch 12/100\n",
      "7262/7262 [==============================] - 213s 29ms/step - loss: 1.5603 - accuracy: 0.4918 - val_loss: 1.5897 - val_accuracy: 0.4870\n",
      "Epoch 13/100\n",
      "7262/7262 [==============================] - 215s 30ms/step - loss: 1.5557 - accuracy: 0.4930 - val_loss: 1.5947 - val_accuracy: 0.4839\n",
      "Epoch 14/100\n",
      "7262/7262 [==============================] - 216s 30ms/step - loss: 1.5576 - accuracy: 0.4927 - val_loss: 1.5883 - val_accuracy: 0.4841\n",
      "Epoch 15/100\n",
      "7262/7262 [==============================] - 214s 29ms/step - loss: 1.5575 - accuracy: 0.4913 - val_loss: 1.5917 - val_accuracy: 0.4767\n",
      "Epoch 16/100\n",
      "7262/7262 [==============================] - 205s 28ms/step - loss: 1.5539 - accuracy: 0.4913 - val_loss: 1.5961 - val_accuracy: 0.4826\n",
      "Epoch 17/100\n",
      "7262/7262 [==============================] - 205s 28ms/step - loss: 1.5571 - accuracy: 0.4925 - val_loss: 1.5869 - val_accuracy: 0.4871\n",
      "Epoch 18/100\n",
      "7262/7262 [==============================] - 210s 29ms/step - loss: 1.5560 - accuracy: 0.4903 - val_loss: 1.5877 - val_accuracy: 0.4854\n",
      "Epoch 19/100\n",
      "7262/7262 [==============================] - 214s 29ms/step - loss: 1.5513 - accuracy: 0.4929 - val_loss: 1.5902 - val_accuracy: 0.4870\n",
      "Epoch 20/100\n",
      "7262/7262 [==============================] - 213s 29ms/step - loss: 1.5549 - accuracy: 0.4918 - val_loss: 1.5866 - val_accuracy: 0.4877\n",
      "Epoch 21/100\n",
      "7262/7262 [==============================] - 214s 30ms/step - loss: 1.5479 - accuracy: 0.4935 - val_loss: 1.5912 - val_accuracy: 0.4832\n",
      "Epoch 22/100\n",
      "7262/7262 [==============================] - 220s 30ms/step - loss: 1.5441 - accuracy: 0.4946 - val_loss: 1.5919 - val_accuracy: 0.4874\n",
      "Epoch 23/100\n",
      "7262/7262 [==============================] - 216s 30ms/step - loss: 1.5507 - accuracy: 0.4924 - val_loss: 1.5972 - val_accuracy: 0.4864\n",
      "Epoch 24/100\n",
      "7262/7262 [==============================] - 212s 29ms/step - loss: 1.5534 - accuracy: 0.4926 - val_loss: 1.6005 - val_accuracy: 0.4832\n",
      "Epoch 25/100\n",
      "7262/7262 [==============================] - 213s 29ms/step - loss: 1.5563 - accuracy: 0.4913 - val_loss: 1.5972 - val_accuracy: 0.4805\n",
      "Epoch 26/100\n",
      "7262/7262 [==============================] - 216s 30ms/step - loss: 1.5578 - accuracy: 0.4908 - val_loss: 1.5990 - val_accuracy: 0.4833\n",
      "Epoch 27/100\n",
      "7262/7262 [==============================] - 214s 29ms/step - loss: 1.5548 - accuracy: 0.4907 - val_loss: 1.5963 - val_accuracy: 0.4859\n",
      "Epoch 28/100\n",
      "7262/7262 [==============================] - 216s 30ms/step - loss: 1.5584 - accuracy: 0.4895 - val_loss: 1.5960 - val_accuracy: 0.4865\n",
      "Epoch 29/100\n",
      "7262/7262 [==============================] - 218s 30ms/step - loss: 1.5598 - accuracy: 0.4889 - val_loss: 1.5961 - val_accuracy: 0.4844\n",
      "Epoch 30/100\n",
      "7262/7262 [==============================] - 217s 30ms/step - loss: 1.5587 - accuracy: 0.4904 - val_loss: 1.5990 - val_accuracy: 0.4803\n"
     ]
    },
    {
     "data": {
      "image/png": "[encoded data removed]",
      "text/plain": [
       "<Figure size 432x288 with 1 Axes>"
      ]
     },
     "metadata": {
      "needs_background": "light",
      "tags": []
     },
     "output_type": "display_data"
    },
    {
     "name": "stdout",
     "output_type": "stream",
     "text": [
      "\n",
      "Saving model as gruModel.tf\n"
     ]
    },
    {
     "name": "stderr",
     "output_type": "stream",
     "text": [
      "WARNING:absl:Found untraced functions such as gru_cell_layer_call_and_return_conditional_losses, gru_cell_layer_call_fn, gru_cell_layer_call_fn, gru_cell_layer_call_and_return_conditional_losses, gru_cell_layer_call_and_return_conditional_losses while saving (showing 5 of 5). These functions will not be directly callable after loading.\n",
      "WARNING:absl:Found untraced functions such as gru_cell_layer_call_and_return_conditional_losses, gru_cell_layer_call_fn, gru_cell_layer_call_fn, gru_cell_layer_call_and_return_conditional_losses, gru_cell_layer_call_and_return_conditional_losses while saving (showing 5 of 5). These functions will not be directly callable after loading.\n"
     ]
    },
    {
     "name": "stdout",
     "output_type": "stream",
     "text": [
      "INFO:tensorflow:Assets written to: gruModel.tf/assets\n"
     ]
    },
    {
     "name": "stderr",
     "output_type": "stream",
     "text": [
      "INFO:tensorflow:Assets written to: gruModel.tf/assets\n"
     ]
    },
    {
     "name": "stdout",
     "output_type": "stream",
     "text": [
      "Model has been saved.\n"
     ]
    }
   ],
   "source": [
    "# create and save the model\n",
    "gruModel = gru(x,y,maxLength,totalWords)\n",
    "saveModel(\"gruModel\",gruModel)"
   ]
  },
  {
   "cell_type": "markdown",
   "metadata": {
    "id": "e-yktBIH743b"
   },
   "source": [
    "## Transformers   \n",
    "I have implemented encoder only transformer for this model. This architecture is similar to the one described in keras code [example](https://keras.io/examples/nlp/text_classification_with_transformer/). The encoder is model as shown [here](https://miro.medium.com/max/2880/1*BHzGVskWGS_3jEcYYi6miQ.png). I have used keras embedding layer for token embedding and positional embedding. \n",
    "\n",
    "The model has 4 layers of encoder and has a global average pool. GlobalAveragePooling1D helps to represent the vector better. We used this as a better alternative to \"flatten\" the tensor we get from embedding. "
   ]
  },
  {
   "cell_type": "code",
   "execution_count": 23,
   "metadata": {
    "id": "6Fxcy1zSApDb"
   },
   "outputs": [],
   "source": [
    "from keras.layers import Layer, Embedding, MultiHeadAttention, LayerNormalization, GlobalAveragePooling1D, Input\n",
    "import tensorflow as tf\n",
    "import keras"
   ]
  },
  {
   "cell_type": "code",
   "execution_count": 24,
   "metadata": {
    "id": "RhszzfzE74pX"
   },
   "outputs": [],
   "source": [
    "# This is used as embedding layer in the transformer. \n",
    "class TokenAndPositionEmbedding(Layer):\n",
    "    def __init__(self, maxlen, vocab_size, embed_dim):\n",
    "        super(TokenAndPositionEmbedding, self).__init__()\n",
    "        self.token_emb = Embedding(input_dim=vocab_size, output_dim=embed_dim)\n",
    "        self.pos_emb = Embedding(input_dim=maxlen, output_dim=embed_dim)\n",
    "\n",
    "    def call(self, x):\n",
    "        maxlen = tf.shape(x)[-1]\n",
    "        positions = tf.range(start=0, limit=maxlen, delta=1)\n",
    "        positions = self.pos_emb(positions)\n",
    "        x = self.token_emb(x)\n",
    "        return x + positions\n",
    "    \n",
    "    # This method was needed to save it to h5 format, but tf does not need this override\n",
    "    # def get_config(self):\n",
    "    #   config = super().get_config().copy()\n",
    "    #   config.update({\n",
    "    #       \"token_emb\":self.token_emb,\n",
    "    #       \"pos_emb\":self.pos_emb\n",
    "    #   })\n",
    "\n",
    "    #   return config"
   ]
  },
  {
   "cell_type": "code",
   "execution_count": 25,
   "metadata": {
    "id": "kYCF9_RD8s27"
   },
   "outputs": [],
   "source": [
    "def pointWiseFeedForwardNetwork(d_model, dff):\n",
    "  return Sequential([\n",
    "                     Dense(dff, activation=\"relu\"),\n",
    "                     Dense(d_model)\n",
    "                    ])"
   ]
  },
  {
   "cell_type": "code",
   "execution_count": 26,
   "metadata": {
    "id": "jXIpVYkc8AUg"
   },
   "outputs": [],
   "source": [
    "class TransformerBlock(Layer):\n",
    "    def __init__(self, embed_dim, num_heads, ff_dim, rate=0.1):\n",
    "        super(TransformerBlock, self).__init__()\n",
    "        self.att = MultiHeadAttention(num_heads=num_heads, key_dim=embed_dim)\n",
    "        self.ffn = pointWiseFeedForwardNetwork(embed_dim,ff_dim)\n",
    "        self.layernorm1 = LayerNormalization(epsilon=1e-6)\n",
    "        self.layernorm2 = LayerNormalization(epsilon=1e-6)\n",
    "        self.dropout1 = Dropout(rate)\n",
    "        self.dropout2 = Dropout(rate)\n",
    "\n",
    "    def call(self, inputs, training):\n",
    "        attn_output = self.att(inputs, inputs)\n",
    "        attn_output = self.dropout1(attn_output, training=training)\n",
    "        out1 = self.layernorm1(inputs + attn_output)\n",
    "        \n",
    "        ffn_output = self.ffn(out1)\n",
    "        ffn_output = self.dropout2(ffn_output, training=training)\n",
    "        return self.layernorm2(out1 + ffn_output)"
   ]
  },
  {
   "cell_type": "code",
   "execution_count": 40,
   "metadata": {
    "id": "oopEdVWS8DrZ"
   },
   "outputs": [],
   "source": [
    "\n",
    "'''\n",
    "Transformer model with only the encoder. The transformer block is the encoder\n",
    "Same as previous architectures, but with transformers. I have used 4 (randomly selected) encoder layers in this architecture.\n",
    "epoch =10 ,early stopping patience =3\n",
    "\n",
    "Initially, this was run with the same config as other model, but took too long. \n",
    "The model was trained for more than 50 epoch and had accuracy of over 41% (in initial run)\n",
    "'''\n",
    "def transformerModel(x, y, maxLength, totalWords, layers=4):\n",
    "  embedding_layer = TokenAndPositionEmbedding(maxLength, totalWords, 32)\n",
    "  transformer_block = TransformerBlock(embed_dim=32, num_heads=1, ff_dim=32)\n",
    "\n",
    "  inputs = Input(shape=(maxLength-1,))\n",
    "\n",
    "  outputs = embedding_layer(inputs)\n",
    "\n",
    "  for i in range(layers):\n",
    "    outputs = transformer_block(outputs)\n",
    "  outputs = GlobalAveragePooling1D()(outputs)\n",
    "\n",
    "  outputs = Dropout(0.1)(outputs)\n",
    "  outputs = Dense(totalWords, activation=\"softmax\")(outputs)\n",
    "\n",
    "  model = keras.Model(inputs=inputs, outputs=outputs)\n",
    "\n",
    "  model.compile(loss=\"categorical_crossentropy\", optimizer=opt,metrics=['accuracy'])\n",
    "  x_train, x_test, y_train, y_test = train_test_split(x, y, shuffle=True, test_size=0.2)\n",
    "  history = model.fit(x_train, y_train, validation_data=(x_test, y_test), epochs=epochs, verbose=verbose, callbacks=[es])\n",
    "\n",
    "  plot_accuracy_vs_val(history)\n",
    "  return model\n"
   ]
  },
  {
   "cell_type": "code",
   "execution_count": 41,
   "metadata": {
    "colab": {
     "base_uri": "https://localhost:8080/",
     "height": 769
    },
    "id": "F-0evjDQA4GZ",
    "outputId": "80c31e66-655f-409f-efc7-f1b049de91b8"
   },
   "outputs": [
    {
     "name": "stdout",
     "output_type": "stream",
     "text": [
      "Epoch 1/10\n",
      "7262/7262 [==============================] - 182s 25ms/step - loss: 2.4546 - accuracy: 0.2500 - val_loss: 2.1565 - val_accuracy: 0.3268\n",
      "Epoch 2/10\n",
      "7262/7262 [==============================] - 177s 24ms/step - loss: 2.1712 - accuracy: 0.3249 - val_loss: 2.0498 - val_accuracy: 0.3622\n",
      "Epoch 3/10\n",
      "7262/7262 [==============================] - 178s 25ms/step - loss: 2.1061 - accuracy: 0.3397 - val_loss: 2.0331 - val_accuracy: 0.3550\n",
      "Epoch 4/10\n",
      "7262/7262 [==============================] - 178s 25ms/step - loss: 2.0676 - accuracy: 0.3506 - val_loss: 2.0093 - val_accuracy: 0.3597\n",
      "Epoch 5/10\n",
      "7262/7262 [==============================] - 179s 25ms/step - loss: 2.0524 - accuracy: 0.3538 - val_loss: 1.9798 - val_accuracy: 0.3688\n",
      "Epoch 6/10\n",
      "7262/7262 [==============================] - 179s 25ms/step - loss: 2.0329 - accuracy: 0.3598 - val_loss: 1.9746 - val_accuracy: 0.3785\n",
      "Epoch 7/10\n",
      "7262/7262 [==============================] - 178s 24ms/step - loss: 2.0231 - accuracy: 0.3616 - val_loss: 1.9610 - val_accuracy: 0.3840\n",
      "Epoch 8/10\n",
      "7262/7262 [==============================] - 178s 25ms/step - loss: 2.0168 - accuracy: 0.3640 - val_loss: 1.9536 - val_accuracy: 0.3854\n",
      "Epoch 9/10\n",
      "7262/7262 [==============================] - 177s 24ms/step - loss: 2.0031 - accuracy: 0.3677 - val_loss: 1.9409 - val_accuracy: 0.3872\n",
      "Epoch 10/10\n",
      "7262/7262 [==============================] - 177s 24ms/step - loss: 1.9994 - accuracy: 0.3697 - val_loss: 1.9435 - val_accuracy: 0.3864\n"
     ]
    },
    {
     "data": {
      "image/png": "[encoded data removed]",
      "text/plain": [
       "<Figure size 432x288 with 1 Axes>"
      ]
     },
     "metadata": {
      "needs_background": "light",
      "tags": []
     },
     "output_type": "display_data"
    },
    {
     "name": "stdout",
     "output_type": "stream",
     "text": [
      "\n",
      "Saving model as transformer.tf\n"
     ]
    },
    {
     "name": "stderr",
     "output_type": "stream",
     "text": [
      "WARNING:absl:Found untraced functions such as embedding_13_layer_call_and_return_conditional_losses, embedding_13_layer_call_fn, embedding_14_layer_call_and_return_conditional_losses, embedding_14_layer_call_fn, multi_head_attention_5_layer_call_and_return_conditional_losses while saving (showing 5 of 65). These functions will not be directly callable after loading.\n",
      "WARNING:absl:Found untraced functions such as embedding_13_layer_call_and_return_conditional_losses, embedding_13_layer_call_fn, embedding_14_layer_call_and_return_conditional_losses, embedding_14_layer_call_fn, multi_head_attention_5_layer_call_and_return_conditional_losses while saving (showing 5 of 65). These functions will not be directly callable after loading.\n"
     ]
    },
    {
     "name": "stdout",
     "output_type": "stream",
     "text": [
      "INFO:tensorflow:Assets written to: transformer.tf/assets\n"
     ]
    },
    {
     "name": "stderr",
     "output_type": "stream",
     "text": [
      "INFO:tensorflow:Assets written to: transformer.tf/assets\n"
     ]
    },
    {
     "name": "stdout",
     "output_type": "stream",
     "text": [
      "Model has been saved.\n"
     ]
    }
   ],
   "source": [
    "# create and save the model\n",
    "transformer = transformerModel(x,y,maxLength,totalWords)\n",
    "\n",
    "saveModel(\"transformer\",transformer)"
   ]
  },
  {
   "cell_type": "markdown",
   "metadata": {
    "id": "n0YTQ3FSrVIB"
   },
   "source": [
    "## Generating Next\n",
    "\n",
    "We have trained our model. We can use them to generate text as below:\n"
   ]
  },
  {
   "cell_type": "code",
   "execution_count": 59,
   "metadata": {
    "colab": {
     "base_uri": "https://localhost:8080/"
    },
    "id": "z9DjCT6ErgzK",
    "outputId": "ae8785d2-8a82-42b1-d20f-9b248a944288"
   },
   "outputs": [
    {
     "name": "stdout",
     "output_type": "stream",
     "text": [
      "1816/1816 [==============================] - 15s 8ms/step - loss: 1.5247 - accuracy: 0.4970\n"
     ]
    },
    {
     "data": {
      "text/plain": [
       "[1.524666428565979, 0.496978759765625]"
      ]
     },
     "execution_count": 59,
     "metadata": {
      "tags": []
     },
     "output_type": "execute_result"
    }
   ],
   "source": [
    "model = gruModel #model from before\n",
    "generate_text(\"conten\",1,maxLength,model)\n",
    "\n",
    "# x_train, x_test, y_train, y_test = train_test_split(x, y, shuffle=True, test_size=0.2, random_state=123)\n",
    "# model.evaluate(x_test,y_test)"
   ]
  },
  {
   "cell_type": "markdown",
   "metadata": {
    "id": "wSWhitmgrvFo"
   },
   "source": [
    "## Load saved model"
   ]
  },
  {
   "cell_type": "markdown",
   "metadata": {
    "id": "pL5N_sXzRupJ"
   },
   "source": [
    "The saved model are stored as a zip file. You will need to unzip the file before you can load the model. Each model is named as follows:\n",
    "\n",
    "|Model|Zip File|Model Name|\n",
    "|--|--|--|\n",
    "|SimpleRNN|simplernn.zip|simplernn.tf|\n",
    "|GRU|gruModel.zip|gruModel.tf|\n",
    "|Transformer|transformer.zip|transformer.tf|"
   ]
  },
  {
   "cell_type": "code",
   "execution_count": null,
   "metadata": {
    "id": "yHDMcPLYRomK"
   },
   "outputs": [],
   "source": [
    "# Use this line if uploading the zip file in google collab\n",
    "# !unzip simplernn.zip #use as zipFile.zip"
   ]
  },
  {
   "cell_type": "code",
   "execution_count": 53,
   "metadata": {
    "id": "a2D7z4D1rw0r"
   },
   "outputs": [],
   "source": [
    "from keras.models import load_model"
   ]
  },
  {
   "cell_type": "code",
   "execution_count": 54,
   "metadata": {
    "colab": {
     "base_uri": "https://localhost:8080/"
    },
    "id": "gM8f_nhKr9WV",
    "outputId": "e9eab7f2-a0db-4076-d29c-083bb6b5dff8"
   },
   "outputs": [
    {
     "name": "stdout",
     "output_type": "stream",
     "text": [
      "Model: \"model_5\"\n",
      "__________________________________________________________________________________________________\n",
      "Layer (type)                    Output Shape         Param #     Connected to                     \n",
      "==================================================================================================\n",
      "input_6 (InputLayer)            [(None, 21)]         0                                            \n",
      "__________________________________________________________________________________________________\n",
      "token_and_position_embedding_5  (None, 21, 32)       1568        input_6[0][0]                    \n",
      "__________________________________________________________________________________________________\n",
      "transformer_block_5 (Transforme (None, 21, 32)       6464        token_and_position_embedding_5[0]\n",
      "                                                                 transformer_block_5[0][0]        \n",
      "                                                                 transformer_block_5[1][0]        \n",
      "                                                                 transformer_block_5[2][0]        \n",
      "__________________________________________________________________________________________________\n",
      "global_average_pooling1d_5 (Glo (None, 32)           0           transformer_block_5[3][0]        \n",
      "__________________________________________________________________________________________________\n",
      "dropout_22 (Dropout)            (None, 32)           0           global_average_pooling1d_5[0][0] \n",
      "__________________________________________________________________________________________________\n",
      "dense_22 (Dense)                (None, 27)           891         dropout_22[0][0]                 \n",
      "==================================================================================================\n",
      "Total params: 8,923\n",
      "Trainable params: 8,923\n",
      "Non-trainable params: 0\n",
      "__________________________________________________________________________________________________\n"
     ]
    }
   ],
   "source": [
    "filename = \"transformer.tf\" #model name. Look table above\n",
    "m = load_model(filename)\n",
    "\n",
    "m.summary()"
   ]
  },
  {
   "cell_type": "code",
   "execution_count": 28,
   "metadata": {
    "colab": {
     "base_uri": "https://localhost:8080/",
     "height": 35
    },
    "id": "7C5Dxqhpt4EX",
    "outputId": "723ba9a2-6441-46f3-af58-1fe2584a2fa0"
   },
   "outputs": [
    {
     "data": {
      "application/vnd.google.colaboratory.intrinsic+json": {
       "type": "string"
      },
      "text/plain": [
       "'agne'"
      ]
     },
     "execution_count": 28,
     "metadata": {
      "tags": []
     },
     "output_type": "execute_result"
    }
   ],
   "source": [
    "generate_text(\"agn\",1,maxLength,m)"
   ]
  },
  {
   "cell_type": "markdown",
   "metadata": {
    "id": "d4tBqakEHEr0"
   },
   "source": [
    "## Comparisons\n",
    "\n",
    "Following table shows accuracy for each model:\n",
    "\n",
    "\n",
    "|Model|Learning rate| Number of epoch| Accuracy (in %)|\n",
    "|--|--|--|--|\n",
    "|SimpleRNN|0.01|12|31.10|\n",
    "|GRU|0.01|14|33.72|\n",
    "|Transformer|0.01|11|12.25|\n",
    "|SimpleRNN|0.001|28|47.65|\n",
    "|GRU|0.001|30|49.70|\n",
    "|Transformer|0.001|10|38|\n",
    "\n",
    "Note:\n",
    "- Number of epoch is the number of epoch that actually ran. For simpleRNN and GRU, early stopping halts the process if there is no progress.\n",
    "- I initially ran the program with 0.01 learning rate, but the accuray was below par. I the decided to run it with 0.001 which is the default value. \n",
    "- The graphs of accuracy and validation shows that the model generalizes well. \n",
    "\n",
    "**Time to train**   \n",
    "Although RNN and GRU took similar time to run, transformers were very timing consuming for this architecture. This is mainly due to the number of layers I had in transformer. For RNN and GRU, there is a single layer of RNN and GRu, whereas there are 4 layers of transformer block present in the transformer model. \n",
    "\n",
    "**Accuracy**   \n",
    "The given accuacy we got might be misleading as we didn't have same training params. For example: due to time constraints, we ran transformer models for 10 epochs only where as other models trained for much longer.\n",
    "\n",
    "**Improvements**\n",
    "- Longer training\n",
    "- better tuning of the parameters. Most of the parameters are chosen randomly and can be further optimized.\n",
    "- More layers. I have the simplest architeture to make it work, but we can see better performance with more layers (a better architecture)\n",
    "\n"
   ]
  },
  {
   "cell_type": "markdown",
   "metadata": {
    "id": "fqy04HAWA2fW"
   },
   "source": [
    "## References\n",
    "\n",
    "- [Agnes Grey](https://www.gutenberg.org/ebooks/767) (Training Dataset) \n",
    "- [When to change data to categorical](https://stackoverflow.com/questions/44110426/when-to-use-to-categorical-in-keras) (Used during preprocessing)\n",
    "- [Train test split](https://datascience.stackexchange.com/questions/38955/how-does-the-validation-split-parameter-of-keras-fit-function-work) \n",
    "-[GlobalAveragePool](https://stackoverflow.com/questions/49295311/what-is-the-difference-between-flatten-and-globalaveragepooling2d-in-keras)\n",
    "\n",
    "- https://machinelearningmastery.com/how-to-develop-a-word-level-neural-language-model-in-keras/\n",
    "\n",
    "- https://stackoverflow.com/questions/12851791/removing-numbers-from-string\n",
    "\n",
    "- https://medium.com/@shivambansal36/language-modelling-text-generation-using-lstms-deep-learning-for-nlp-ed36b224b275\n",
    "\n",
    "- https://machinelearningmastery.com/develop-word-based-neural-language-models-python-keras/\n",
    "\n",
    "- https://keras.io/examples/nlp/text_classification_with_transformer/\n",
    "\n",
    "- [Transformer Tensorflow](https://www.tensorflow.org/tutorials/text/transformer)"
   ]
  }
 ],
 "metadata": {
  "colab": {
   "collapsed_sections": [],
   "name": "Final.ipynb",
   "provenance": []
  },
  "kernelspec": {
   "display_name": "Python 3",
   "language": "python",
   "name": "python3"
  },
  "language_info": {
   "codemirror_mode": {
    "name": "ipython",
    "version": 3
   },
   "file_extension": ".py",
   "mimetype": "text/x-python",
   "name": "python",
   "nbconvert_exporter": "python",
   "pygments_lexer": "ipython3",
   "version": "3.9.5"
  }
 },
 "nbformat": 4,
 "nbformat_minor": 1
}
